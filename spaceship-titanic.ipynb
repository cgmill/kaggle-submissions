{
 "cells": [
  {
   "cell_type": "code",
   "execution_count": null,
   "id": "c65afb89-9fad-4b89-8bd3-9c7b37cb0be8",
   "metadata": {},
   "outputs": [],
   "source": [
    "!pip install -q kaggle \n",
    "import os\n",
    "from pathlib import Path\n",
    "\n",
    "iskaggle = os.environ.get('KAGGLE_KERNEL_RUN_TYPE', '')\n",
    "if iskaggle: path = Path('../input/spaceship-titanic')\n",
    "else:\n",
    "    path = Path('spaceship-titanic')\n",
    "    if not path.exists():\n",
    "        import zipfile,kaggle\n",
    "        kaggle.api.competition_download_cli(str(path))\n",
    "        zipfile.ZipFile(f'{path}.zip').extractall(path)"
   ]
  },
  {
   "cell_type": "code",
   "execution_count": null,
   "id": "ce2bb46a-c3ce-48b7-b34b-b73fa0013938",
   "metadata": {},
   "outputs": [],
   "source": [
    "!pip install -q fastai\n",
    "from fastai.tabular.all import *\n",
    "\n",
    "pd.options.display.float_format = '{:.2f}'.format\n",
    "set_seed(42)"
   ]
  },
  {
   "cell_type": "code",
   "execution_count": null,
   "id": "e01a4561-b33e-496e-b2da-7bd978e8020d",
   "metadata": {},
   "outputs": [],
   "source": [
    "import pandas as pd"
   ]
  },
  {
   "cell_type": "code",
   "execution_count": null,
   "id": "e1de3627-db1f-40c1-8b82-55f30c74751c",
   "metadata": {},
   "outputs": [],
   "source": [
    "df = pd.read_csv(path/\"train.csv\")\n",
    "df.head()"
   ]
  },
  {
   "cell_type": "code",
   "execution_count": null,
   "id": "06382c40-4ae2-4aff-b84d-75dd3a872a3f",
   "metadata": {},
   "outputs": [],
   "source": [
    "import numpy as np"
   ]
  },
  {
   "cell_type": "code",
   "execution_count": null,
   "id": "f09e2dc6-2862-4e09-bd36-5b17ad8e28c1",
   "metadata": {},
   "outputs": [],
   "source": [
    "def add_features(df):\n",
    "    df[\"GroupId\"] = df[\"PassengerId\"].str.split(\"_\").str[0]\n",
    "    df[\"GroupMember\"] = df[\"PassengerId\"].str.split(\"_\").str[1]\n",
    "    df[\"GroupSize\"] = df.groupby(\"GroupId\")[\"GroupId\"].transform(\"size\")\n",
    "    df[\"LogRoomService\"] = np.log1p(df[\"RoomService\"])\n",
    "    df[\"LogFoodCourt\"] = np.log1p(df[\"FoodCourt\"])\n",
    "    df[\"LogShoppingMall\"] = np.log1p(df[\"ShoppingMall\"])\n",
    "    df[\"LogSpa\"] = np.log1p(df[\"Spa\"])\n",
    "    df[\"LogVRDeck\"] = np.log1p(df[\"VRDeck\"])\n",
    "    df[\"Deck\"] = df[\"Cabin\"].str.split(\"/\").str[0]\n",
    "    df[\"Room\"] = df[\"Cabin\"].str.split(\"/\").str[1]\n",
    "    df[\"Side\"] = df[\"Cabin\"].str.split(\"/\").str[2]\n",
    "    df[\"Room\"] = df[\"Room\"].astype('Int64')\n",
    "    df[\"MoneySpent\"] = df[\"RoomService\"] + df[\"FoodCourt\"] + df[\"ShoppingMall\"] + df[\"Spa\"] + df[\"VRDeck\"]\n",
    "    df[\"LogMoneySpent\"] = np.log1p(df[\"MoneySpent\"])\n",
    "#    df[\"Transported\"] = df[\"Transported\"].astype('Int64')\n",
    "    \n",
    "    \n",
    "#    pd.get_dummies(df, columns=[\"HomePlanet\", \"CryoSleep\", \"Destination\", \"VIP\", \"Deck\", \"Side\", \"Transported\"], drop_first=True)\n",
    "    \n",
    "add_features(df)\n",
    "df.head()"
   ]
  },
  {
   "cell_type": "code",
   "execution_count": null,
   "id": "f55633c4-d854-42db-a5f1-395379b874f0",
   "metadata": {},
   "outputs": [],
   "source": [
    "splits = RandomSplitter(seed=42)(df)"
   ]
  },
  {
   "cell_type": "code",
   "execution_count": null,
   "id": "459fe7ab-1997-42ff-8bc7-9b1995b192b9",
   "metadata": {},
   "outputs": [],
   "source": [
    "dls = TabularPandas(\n",
    "    df, splits=splits,\n",
    "    procs = [ FillMissing, Categorify, Normalize],\n",
    "    cat_names=[\"CryoSleep\", \"Deck\", \"Side\", \"VIP\"],\n",
    "#    cat_names=[\"HomePlanet\",\"CryoSleep\", \"Deck\", \"Side\", \"Destination\", \"VIP\"],\n",
    "#    cont_names=[\"Age\", \"LogMoneySpent\"],\n",
    "    cont_names=[\"Age\", \"LogRoomService\",\"LogFoodCourt\",\"LogShoppingMall\",\"LogSpa\",\"LogVRDeck\"],\n",
    "#    cont_names=[\"Room\",\"Age\",\"LogRoomService\",\"LogFoodCourt\",\"LogShoppingMall\",\"LogSpa\",\"LogVRDeck\"],\n",
    "    y_names=\"Transported\", y_block = CategoryBlock(),\n",
    ").dataloaders(path=\".\")"
   ]
  },
  {
   "cell_type": "code",
   "execution_count": null,
   "id": "a07e1fe2-f331-42b0-891a-93bf006daf4c",
   "metadata": {},
   "outputs": [],
   "source": [
    "dls.train.xs.tail()"
   ]
  },
  {
   "cell_type": "code",
   "execution_count": null,
   "id": "27747745-04c2-49ff-a3df-eed9d8a1b58c",
   "metadata": {},
   "outputs": [],
   "source": [
    "learn = tabular_learner(dls, metrics=accuracy, layers=[12,12])"
   ]
  },
  {
   "cell_type": "code",
   "execution_count": null,
   "id": "adbacfe7-012e-45bd-a934-20b7193ec007",
   "metadata": {},
   "outputs": [],
   "source": [
    "learn.lr_find(suggest_funcs=(slide, valley)) "
   ]
  },
  {
   "cell_type": "code",
   "execution_count": null,
   "id": "cbd6a739-8f3f-484a-b054-68337b5d1b45",
   "metadata": {},
   "outputs": [],
   "source": [
    "learn.fit(16, lr=0.04) "
   ]
  },
  {
   "cell_type": "code",
   "execution_count": null,
   "id": "b546cff6-3fdb-45f9-bb0c-6209e67cbca7",
   "metadata": {},
   "outputs": [],
   "source": [
    "tst_df = pd.read_csv(path/'test.csv')\n",
    "add_features(tst_df)"
   ]
  },
  {
   "cell_type": "code",
   "execution_count": null,
   "id": "22b6bb63-f000-4732-8552-17daac243323",
   "metadata": {},
   "outputs": [],
   "source": [
    "tst_dl = learn.dls.test_dl(tst_df)"
   ]
  },
  {
   "cell_type": "code",
   "execution_count": null,
   "id": "6ac8eda2-3ebf-44e8-bf71-812d37e0720b",
   "metadata": {},
   "outputs": [],
   "source": [
    "preds,targs = learn.get_preds(dl=tst_dl)"
   ]
  },
  {
   "cell_type": "code",
   "execution_count": null,
   "id": "f219c010-51a2-4a22-8c66-6c4f04cdfd72",
   "metadata": {},
   "outputs": [],
   "source": [
    "preds"
   ]
  },
  {
   "cell_type": "code",
   "execution_count": null,
   "id": "f8c16a74-ba65-4b17-8dc6-8ea5502fa069",
   "metadata": {},
   "outputs": [],
   "source": [
    "tst_df['Survived'] = (preds[:,1]>0.5).int()\n",
    "sub_df = tst_df[['PassengerId','Survived']]\n",
    "sub_df.to_csv('sub.csv', index=False)"
   ]
  },
  {
   "cell_type": "code",
   "execution_count": null,
   "id": "14b596a5-1660-4977-ba62-0dc5d90e6d7f",
   "metadata": {},
   "outputs": [],
   "source": [
    "!head sub.csv"
   ]
  },
  {
   "cell_type": "code",
   "execution_count": null,
   "id": "df7f072b-d43b-43ba-a404-145f1aa889c6",
   "metadata": {},
   "outputs": [],
   "source": [
    "def ensemble():\n",
    "    learn = tabular_learner(dls, metrics=accuracy, layers=[10,10])\n",
    "    with learn.no_bar(),learn.no_logging(): learn.fit(16, lr=0.04)\n",
    "    return learn.get_preds(dl=tst_dl)[0]"
   ]
  },
  {
   "cell_type": "code",
   "execution_count": null,
   "id": "449410f9-7557-4d12-a18c-c0e67061c1e8",
   "metadata": {},
   "outputs": [],
   "source": [
    "learns = [ensemble() for _ in range(5)]"
   ]
  },
  {
   "cell_type": "code",
   "execution_count": null,
   "id": "a606a34f-c210-4056-933f-938ce2269c37",
   "metadata": {},
   "outputs": [],
   "source": [
    "len(learns)"
   ]
  },
  {
   "cell_type": "code",
   "execution_count": null,
   "id": "d60f7eec-e535-4047-bb86-c7ac6a3e53f0",
   "metadata": {},
   "outputs": [],
   "source": [
    "ens_preds = torch.stack(learns).mean(0)"
   ]
  },
  {
   "cell_type": "code",
   "execution_count": null,
   "id": "8736a716-0667-4b81-925f-0199c5e8d547",
   "metadata": {},
   "outputs": [],
   "source": [
    "ens_preds"
   ]
  },
  {
   "cell_type": "code",
   "execution_count": null,
   "id": "7361e026-d5ae-4b73-b95e-84921de102ca",
   "metadata": {},
   "outputs": [],
   "source": [
    "tst_df['Survived'] = (ens_preds[:,1]>0.5).int()\n",
    "sub_df = tst_df[['PassengerId','Survived']]\n",
    "sub_df.to_csv('ens_sub.csv', index=False)"
   ]
  },
  {
   "cell_type": "markdown",
   "id": "ec072b21-531d-43ed-b1f8-e2ea87b5437b",
   "metadata": {},
   "source": [
    "# Binary Splits\n"
   ]
  },
  {
   "cell_type": "code",
   "execution_count": null,
   "id": "81ac2651-8df6-4e1c-bc12-63e5ec04e488",
   "metadata": {},
   "outputs": [],
   "source": [
    "cats=[\"CryoSleep\", \"Deck\", \"Side\", \"VIP\"]\n",
    "conts=[\"Age\", \"LogRoomService\",\"LogFoodCourt\",\"LogShoppingMall\",\"LogSpa\",\"LogVRDeck\"]\n",
    "dep=[\"Transported\"]"
   ]
  },
  {
   "cell_type": "code",
   "execution_count": null,
   "id": "cfcc8197-aa37-45c2-8a7f-1ada8368f49c",
   "metadata": {},
   "outputs": [],
   "source": [
    "df[\"CryoSleep\"] = pd.Categorical(df.CryoSleep)\n",
    "df[\"Transported\"] = "
   ]
  },
  {
   "cell_type": "code",
   "execution_count": null,
   "id": "e54fb1ee-33ac-4f00-9649-a52e849ccc61",
   "metadata": {},
   "outputs": [],
   "source": [
    "df.CryoSleep"
   ]
  },
  {
   "cell_type": "code",
   "execution_count": null,
   "id": "a7e7f9cc-b665-4b7d-b73f-dd8501f5c940",
   "metadata": {},
   "outputs": [],
   "source": [
    "import seaborn as sns \n",
    "\n",
    "fig,axs = plt.subplots(1,2, figsize=(11,5))\n",
    "sns.barplot(data=df, y=dep, x=\"CryoSleep\", ax=axs[0]).set(title=\"Survival rate\")\n",
    "sns.countplot(data=df, x=\"CryoSleep\", ax=axs[1]).set(title=\"Histogram\");"
   ]
  }
 ],
 "metadata": {
  "kernelspec": {
   "display_name": "Python 3 (ipykernel)",
   "language": "python",
   "name": "python3"
  },
  "language_info": {
   "codemirror_mode": {
    "name": "ipython",
    "version": 3
   },
   "file_extension": ".py",
   "mimetype": "text/x-python",
   "name": "python",
   "nbconvert_exporter": "python",
   "pygments_lexer": "ipython3",
   "version": "3.9.16"
  }
 },
 "nbformat": 4,
 "nbformat_minor": 5
}
